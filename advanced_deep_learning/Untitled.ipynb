{
 "cells": [
  {
   "cell_type": "code",
   "execution_count": 3,
   "metadata": {},
   "outputs": [
    {
     "name": "stdout",
     "output_type": "stream",
     "text": [
      "5 4\n",
      "3 6\n"
     ]
    }
   ],
   "source": [
    "import math\n",
    "class Point:\n",
    "    pass\n",
    "\n",
    "p1 = Point()\n",
    "p2 = Point()\n",
    "\n",
    "p1.x = 5\n",
    "p1.y = 4\n",
    "\n",
    "p2.x = 3\n",
    "p2.y = 6\n",
    "\n",
    "print(p1.x, p1.y)\n",
    "print(p2.x, p2.y)"
   ]
  },
  {
   "cell_type": "code",
   "execution_count": 4,
   "metadata": {},
   "outputs": [
    {
     "name": "stdout",
     "output_type": "stream",
     "text": [
      "2.8284271247461903\n"
     ]
    }
   ],
   "source": [
    "distance = 0\n",
    "distance = math.sqrt((p2.x-p1.x)**2 + (p2.y-p1.y)**2)\n",
    "print(distance)"
   ]
  },
  {
   "cell_type": "code",
   "execution_count": 6,
   "metadata": {},
   "outputs": [
    {
     "name": "stdout",
     "output_type": "stream",
     "text": [
      "20\n",
      "10\n",
      "Length:  80\n",
      "Breadth:  50\n",
      "Area:  4000\n"
     ]
    }
   ],
   "source": [
    "# program to illustrate protected\n",
    "# data members in a class\n",
    "\n",
    "# super class\n",
    "class Shape:\n",
    "      \n",
    "    # constructor\n",
    "    def __init__(self, length, breadth):\n",
    "        self.length = length\n",
    "        self.breadth = breadth\n",
    "          \n",
    "    # public member function\n",
    "    def displaySides(self):\n",
    "  \n",
    "        # accessing protected data members\n",
    "        print(\"Length: \", self.length)\n",
    "        print(\"Breadth: \", self.breadth)\n",
    "        \n",
    "  \n",
    "  \n",
    "# derived class\n",
    "class Rectangle(Shape):\n",
    "  \n",
    "    # constructor\n",
    "    def __init__(self, length, breadth):\n",
    "  \n",
    "        # Calling the constructor of\n",
    "        # Super class\n",
    "        Shape.__init__(self, length, breadth)\n",
    "          \n",
    "    # public member function\n",
    "    def calculateArea(self):\n",
    "                      \n",
    "        # accessing protected data members of super class\n",
    "        print(\"Area: \", self.length * self.breadth)\n",
    "\n",
    "  \n",
    "# creating objects of the\n",
    "# derived class\n",
    "obj = Rectangle(80, 50)\n",
    "obja= Shape(20,10)\n",
    "print(obja.length)\n",
    "print(obja.breadth)\n",
    "\n",
    "# calling derived member\n",
    "# functions of the class\n",
    "obj.displaySides()\n",
    "  \n",
    "# calling public member\n",
    "# functions of the class\n",
    "obj.calculateArea()  "
   ]
  },
  {
   "cell_type": "code",
   "execution_count": 9,
   "metadata": {},
   "outputs": [
    {
     "name": "stdout",
     "output_type": "stream",
     "text": [
      "20\n",
      "10\n",
      "Length:  80\n",
      "Breadth:  50\n",
      "Area:  4000\n"
     ]
    }
   ],
   "source": [
    "# program to illustrate protected\n",
    "# data members in a class\n",
    "\n",
    "# super class\n",
    "class Shape:\n",
    "      \n",
    "    # constructor\n",
    "    def __init__(self, length, breadth):\n",
    "        self._length = length\n",
    "        self._breadth = breadth\n",
    "          \n",
    "    # public member function\n",
    "    def displaySides(self):\n",
    "  \n",
    "        # accessing protected data members\n",
    "        print(\"Length: \", self._length)\n",
    "        print(\"Breadth: \", self._breadth)\n",
    "        \n",
    "  \n",
    "  \n",
    "# derived class\n",
    "class Rectangle(Shape):\n",
    "  \n",
    "    # constructor\n",
    "    def __init__(self, length, breadth):\n",
    "  \n",
    "        # Calling the constructor of\n",
    "        # Super class\n",
    "        Shape.__init__(self, length, breadth)\n",
    "          \n",
    "    # public member function\n",
    "    def calculateArea(self):\n",
    "                      \n",
    "        # accessing protected data members of super class\n",
    "        print(\"Area: \", self._length * self._breadth)\n",
    "\n",
    "  \n",
    "# creating objects of the\n",
    "# derived class\n",
    "obj = Rectangle(80, 50)\n",
    "obja= Shape(20,10)\n",
    "print(obja._length)\n",
    "print(obja._breadth)\n",
    "\n",
    "# calling derived member\n",
    "# functions of the class\n",
    "obj.displaySides()\n",
    "  \n",
    "# calling public member\n",
    "# functions of the class\n",
    "obj.calculateArea()  "
   ]
  },
  {
   "cell_type": "code",
   "execution_count": 22,
   "metadata": {},
   "outputs": [
    {
     "name": "stdout",
     "output_type": "stream",
     "text": [
      "Length:  80\n",
      "Breadth:  50\n"
     ]
    },
    {
     "ename": "AttributeError",
     "evalue": "'Rectangle' object has no attribute '_Rectangle__length'",
     "output_type": "error",
     "traceback": [
      "\u001b[1;31m---------------------------------------------------------------------------\u001b[0m",
      "\u001b[1;31mAttributeError\u001b[0m                            Traceback (most recent call last)",
      "\u001b[1;32m<ipython-input-22-bad870a8cbdb>\u001b[0m in \u001b[0;36m<module>\u001b[1;34m\u001b[0m\n\u001b[0;32m     46\u001b[0m \u001b[1;31m# calling public member\u001b[0m\u001b[1;33m\u001b[0m\u001b[1;33m\u001b[0m\u001b[1;33m\u001b[0m\u001b[0m\n\u001b[0;32m     47\u001b[0m \u001b[1;31m# functions of the class\u001b[0m\u001b[1;33m\u001b[0m\u001b[1;33m\u001b[0m\u001b[1;33m\u001b[0m\u001b[0m\n\u001b[1;32m---> 48\u001b[1;33m \u001b[0mobj\u001b[0m\u001b[1;33m.\u001b[0m\u001b[0mcalculateArea\u001b[0m\u001b[1;33m(\u001b[0m\u001b[1;33m)\u001b[0m\u001b[1;33m\u001b[0m\u001b[1;33m\u001b[0m\u001b[0m\n\u001b[0m",
      "\u001b[1;32m<ipython-input-22-bad870a8cbdb>\u001b[0m in \u001b[0;36mcalculateArea\u001b[1;34m(self)\u001b[0m\n\u001b[0;32m     32\u001b[0m \u001b[1;33m\u001b[0m\u001b[0m\n\u001b[0;32m     33\u001b[0m         \u001b[1;31m# accessing protected data members of super class\u001b[0m\u001b[1;33m\u001b[0m\u001b[1;33m\u001b[0m\u001b[1;33m\u001b[0m\u001b[0m\n\u001b[1;32m---> 34\u001b[1;33m         \u001b[0mprint\u001b[0m\u001b[1;33m(\u001b[0m\u001b[1;34m\"Area: \"\u001b[0m\u001b[1;33m,\u001b[0m \u001b[0mself\u001b[0m\u001b[1;33m.\u001b[0m\u001b[0m__length\u001b[0m \u001b[1;33m*\u001b[0m \u001b[0mself\u001b[0m\u001b[1;33m.\u001b[0m\u001b[0m__breadth\u001b[0m\u001b[1;33m)\u001b[0m\u001b[1;33m\u001b[0m\u001b[1;33m\u001b[0m\u001b[0m\n\u001b[0m\u001b[0;32m     35\u001b[0m \u001b[1;33m\u001b[0m\u001b[0m\n\u001b[0;32m     36\u001b[0m \u001b[1;33m\u001b[0m\u001b[0m\n",
      "\u001b[1;31mAttributeError\u001b[0m: 'Rectangle' object has no attribute '_Rectangle__length'"
     ]
    }
   ],
   "source": [
    "# program to illustrate protected\n",
    "# data members in a class\n",
    "\n",
    "# super class\n",
    "class Shape:\n",
    "      \n",
    "    # constructor\n",
    "    def __init__(self, length, breadth):\n",
    "        self.__length = length\n",
    "        self.__breadth = breadth\n",
    "          \n",
    "    # public member function\n",
    "    def displaySides(self):\n",
    "  \n",
    "        # accessing protected data members\n",
    "        print(\"Length: \", self.__length)\n",
    "        print(\"Breadth: \", self.__breadth)\n",
    "        \n",
    "\n",
    "# derived class\n",
    "class Rectangle(Shape):\n",
    "  \n",
    "    # constructor\n",
    "    def __init__(self, length, breadth):\n",
    "  \n",
    "        # Calling the constructor of\n",
    "        # Super class\n",
    "        Shape.__init__(self, length, breadth)\n",
    "          \n",
    "    # public member function\n",
    "    def calculateArea(self):\n",
    "                      \n",
    "        # accessing protected data members of super class\n",
    "        print(\"Area: \", self.__length * self.__breadth)\n",
    "\n",
    "\n",
    "obj = Rectangle(80,50)\n",
    "obja= Shape(20,10)\n",
    "#print(obja.__length)\n",
    "#print(obja.__breadth)\n",
    "\n",
    "# calling derived member\n",
    "# functions of the class\n",
    "obj.displaySides()\n",
    "  \n",
    "# calling public member\n",
    "# functions of the class\n",
    "obj.calculateArea()"
   ]
  },
  {
   "cell_type": "code",
   "execution_count": 25,
   "metadata": {},
   "outputs": [
    {
     "name": "stdout",
     "output_type": "stream",
     "text": [
      "20\n",
      "10\n",
      "Length:  80\n",
      "Breadth:  50\n",
      "Area:  4000\n",
      "Length:  20\n",
      "Breadth:  10\n"
     ]
    }
   ],
   "source": [
    "# program to illustrate protected\n",
    "# data members in a class\n",
    "\n",
    "# super class\n",
    "class Shape:\n",
    "      \n",
    "    # constructor\n",
    "    def __init__(self, length, breadth):\n",
    "        self._length = length\n",
    "        self._breadth = breadth\n",
    "          \n",
    "    # public member function\n",
    "    def _displaySides(self):\n",
    "  \n",
    "        # accessing protected data members\n",
    "        print(\"Length: \", self._length)\n",
    "        print(\"Breadth: \", self._breadth)\n",
    "        \n",
    "  \n",
    "  \n",
    "# derived class\n",
    "class Rectangle(Shape):\n",
    "  \n",
    "    # constructor\n",
    "    def __init__(self, length, breadth):\n",
    "  \n",
    "        # Calling the constructor of\n",
    "        # Super class\n",
    "        Shape.__init__(self, length, breadth)\n",
    "          \n",
    "    # public member function\n",
    "    def calculateArea(self):\n",
    "                      \n",
    "        # accessing protected data members of super class\n",
    "        print(\"Area: \", self._length * self._breadth)\n",
    "\n",
    "  \n",
    "# creating objects of the\n",
    "# derived class\n",
    "obj = Rectangle(80, 50)\n",
    "obja= Shape(20,10)\n",
    "print(obja._length)\n",
    "print(obja._breadth)\n",
    "\n",
    "# calling derived member\n",
    "# functions of the class\n",
    "obj._displaySides()\n",
    "  \n",
    "# calling public member\n",
    "# functions of the class\n",
    "obj.calculateArea()  \n",
    "obja._displaySides()"
   ]
  },
  {
   "cell_type": "code",
   "execution_count": null,
   "metadata": {},
   "outputs": [],
   "source": []
  }
 ],
 "metadata": {
  "kernelspec": {
   "display_name": "Python 3",
   "language": "python",
   "name": "python3"
  },
  "language_info": {
   "codemirror_mode": {
    "name": "ipython",
    "version": 3
   },
   "file_extension": ".py",
   "mimetype": "text/x-python",
   "name": "python",
   "nbconvert_exporter": "python",
   "pygments_lexer": "ipython3",
   "version": "3.8.5"
  }
 },
 "nbformat": 4,
 "nbformat_minor": 4
}
